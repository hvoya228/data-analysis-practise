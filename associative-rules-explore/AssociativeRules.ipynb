{
 "cells": [
  {
   "cell_type": "code",
   "execution_count": 1,
   "id": "60c99192",
   "metadata": {},
   "outputs": [],
   "source": [
    "from mlxtend.frequent_patterns import association_rules\n",
    "import pandas as pd\n",
    "\n",
    "# Створення даних з покупками для формування асоціативних правил\n",
    "data = pd.DataFrame({\n",
    "    'TransactionID': [1, 2, 3, 4, 5],\n",
    "    'Items': [\n",
    "        'milk, bread, apples',\n",
    "        'bread, apples',\n",
    "        'milk, bread',\n",
    "        'bread, apples',\n",
    "        'milk, bread, apples, eggs'\n",
    "    ]\n",
    "})\n",
    "\n",
    "# Розділення списку даних на окремі елементи\n",
    "data['Items'] = data['Items'].str.split(', ')\n",
    "\n",
    "# Використання one-hot encoding для створення бінарних змінних для товарів\n",
    "oht = data['Items'].str.join('|').str.get_dummies()"
   ]
  },
  {
   "cell_type": "code",
   "execution_count": 11,
   "id": "34e1aa84",
   "metadata": {},
   "outputs": [
    {
     "name": "stderr",
     "output_type": "stream",
     "text": [
      "D:\\Software\\Anaconda\\Lib\\site-packages\\mlxtend\\frequent_patterns\\fpcommon.py:110: DeprecationWarning: DataFrames with non-bool types result in worse computationalperformance and their support might be discontinued in the future.Please use a DataFrame with bool type\n",
      "  warnings.warn(\n"
     ]
    }
   ],
   "source": [
    "from mlxtend.frequent_patterns import apriori\n",
    "\n",
    "# Застосування алгоритму Apriori для створення асоціативних правил\n",
    "frequent_itemsets = apriori(oht, min_support=0.5, use_colnames=True)\n",
    "rules_apriori = association_rules(frequent_itemsets, metric=\"lift\", min_threshold=1.0)"
   ]
  },
  {
   "cell_type": "code",
   "execution_count": 12,
   "id": "fbd840ac",
   "metadata": {},
   "outputs": [
    {
     "name": "stderr",
     "output_type": "stream",
     "text": [
      "D:\\Software\\Anaconda\\Lib\\site-packages\\mlxtend\\frequent_patterns\\fpcommon.py:110: DeprecationWarning: DataFrames with non-bool types result in worse computationalperformance and their support might be discontinued in the future.Please use a DataFrame with bool type\n",
      "  warnings.warn(\n"
     ]
    }
   ],
   "source": [
    "from mlxtend.frequent_patterns import fpgrowth\n",
    "\n",
    "# Застосування алгоритму FP-growth для створення асоціативних правил\n",
    "frequent_itemsets = fpgrowth(oht, min_support=0.5, use_colnames=True)\n",
    "rules_fp_growth = association_rules(frequent_itemsets, metric=\"lift\", min_threshold=1.0)"
   ]
  },
  {
   "cell_type": "code",
   "execution_count": 8,
   "id": "9844dddc",
   "metadata": {},
   "outputs": [
    {
     "name": "stdout",
     "output_type": "stream",
     "text": [
      "Асоціативні правила (Apriori):\n"
     ]
    },
    {
     "data": {
      "text/html": [
       "<div>\n",
       "<style scoped>\n",
       "    .dataframe tbody tr th:only-of-type {\n",
       "        vertical-align: middle;\n",
       "    }\n",
       "\n",
       "    .dataframe tbody tr th {\n",
       "        vertical-align: top;\n",
       "    }\n",
       "\n",
       "    .dataframe thead th {\n",
       "        text-align: right;\n",
       "    }\n",
       "</style>\n",
       "<table border=\"1\" class=\"dataframe\">\n",
       "  <thead>\n",
       "    <tr style=\"text-align: right;\">\n",
       "      <th></th>\n",
       "      <th>antecedents</th>\n",
       "      <th>consequents</th>\n",
       "      <th>antecedent support</th>\n",
       "      <th>consequent support</th>\n",
       "      <th>support</th>\n",
       "      <th>confidence</th>\n",
       "      <th>lift</th>\n",
       "      <th>leverage</th>\n",
       "      <th>conviction</th>\n",
       "      <th>zhangs_metric</th>\n",
       "    </tr>\n",
       "  </thead>\n",
       "  <tbody>\n",
       "    <tr>\n",
       "      <th>0</th>\n",
       "      <td>(bread)</td>\n",
       "      <td>(apples)</td>\n",
       "      <td>1.0</td>\n",
       "      <td>0.8</td>\n",
       "      <td>0.8</td>\n",
       "      <td>0.8</td>\n",
       "      <td>1.0</td>\n",
       "      <td>0.0</td>\n",
       "      <td>1.0</td>\n",
       "      <td>0.0</td>\n",
       "    </tr>\n",
       "    <tr>\n",
       "      <th>1</th>\n",
       "      <td>(apples)</td>\n",
       "      <td>(bread)</td>\n",
       "      <td>0.8</td>\n",
       "      <td>1.0</td>\n",
       "      <td>0.8</td>\n",
       "      <td>1.0</td>\n",
       "      <td>1.0</td>\n",
       "      <td>0.0</td>\n",
       "      <td>inf</td>\n",
       "      <td>0.0</td>\n",
       "    </tr>\n",
       "    <tr>\n",
       "      <th>2</th>\n",
       "      <td>(milk)</td>\n",
       "      <td>(bread)</td>\n",
       "      <td>0.6</td>\n",
       "      <td>1.0</td>\n",
       "      <td>0.6</td>\n",
       "      <td>1.0</td>\n",
       "      <td>1.0</td>\n",
       "      <td>0.0</td>\n",
       "      <td>inf</td>\n",
       "      <td>0.0</td>\n",
       "    </tr>\n",
       "    <tr>\n",
       "      <th>3</th>\n",
       "      <td>(bread)</td>\n",
       "      <td>(milk)</td>\n",
       "      <td>1.0</td>\n",
       "      <td>0.6</td>\n",
       "      <td>0.6</td>\n",
       "      <td>0.6</td>\n",
       "      <td>1.0</td>\n",
       "      <td>0.0</td>\n",
       "      <td>1.0</td>\n",
       "      <td>0.0</td>\n",
       "    </tr>\n",
       "  </tbody>\n",
       "</table>\n",
       "</div>"
      ],
      "text/plain": [
       "  antecedents consequents  antecedent support  consequent support  support  \\\n",
       "0     (bread)    (apples)                 1.0                 0.8      0.8   \n",
       "1    (apples)     (bread)                 0.8                 1.0      0.8   \n",
       "2      (milk)     (bread)                 0.6                 1.0      0.6   \n",
       "3     (bread)      (milk)                 1.0                 0.6      0.6   \n",
       "\n",
       "   confidence  lift  leverage  conviction  zhangs_metric  \n",
       "0         0.8   1.0       0.0         1.0            0.0  \n",
       "1         1.0   1.0       0.0         inf            0.0  \n",
       "2         1.0   1.0       0.0         inf            0.0  \n",
       "3         0.6   1.0       0.0         1.0            0.0  "
      ]
     },
     "execution_count": 8,
     "metadata": {},
     "output_type": "execute_result"
    }
   ],
   "source": [
    "# Оцінка якості асоціативних правил алгоритму Apriori\n",
    "print(\"Асоціативні правила (Apriori):\")\n",
    "rules_apriori"
   ]
  },
  {
   "cell_type": "code",
   "execution_count": 10,
   "id": "183fcddd",
   "metadata": {},
   "outputs": [
    {
     "name": "stdout",
     "output_type": "stream",
     "text": [
      "Асоціативні правила (Fp growth):\n"
     ]
    },
    {
     "data": {
      "text/html": [
       "<div>\n",
       "<style scoped>\n",
       "    .dataframe tbody tr th:only-of-type {\n",
       "        vertical-align: middle;\n",
       "    }\n",
       "\n",
       "    .dataframe tbody tr th {\n",
       "        vertical-align: top;\n",
       "    }\n",
       "\n",
       "    .dataframe thead th {\n",
       "        text-align: right;\n",
       "    }\n",
       "</style>\n",
       "<table border=\"1\" class=\"dataframe\">\n",
       "  <thead>\n",
       "    <tr style=\"text-align: right;\">\n",
       "      <th></th>\n",
       "      <th>antecedents</th>\n",
       "      <th>consequents</th>\n",
       "      <th>antecedent support</th>\n",
       "      <th>consequent support</th>\n",
       "      <th>support</th>\n",
       "      <th>confidence</th>\n",
       "      <th>lift</th>\n",
       "      <th>leverage</th>\n",
       "      <th>conviction</th>\n",
       "      <th>zhangs_metric</th>\n",
       "    </tr>\n",
       "  </thead>\n",
       "  <tbody>\n",
       "    <tr>\n",
       "      <th>0</th>\n",
       "      <td>(bread)</td>\n",
       "      <td>(apples)</td>\n",
       "      <td>1.0</td>\n",
       "      <td>0.8</td>\n",
       "      <td>0.8</td>\n",
       "      <td>0.8</td>\n",
       "      <td>1.0</td>\n",
       "      <td>0.0</td>\n",
       "      <td>1.0</td>\n",
       "      <td>0.0</td>\n",
       "    </tr>\n",
       "    <tr>\n",
       "      <th>1</th>\n",
       "      <td>(apples)</td>\n",
       "      <td>(bread)</td>\n",
       "      <td>0.8</td>\n",
       "      <td>1.0</td>\n",
       "      <td>0.8</td>\n",
       "      <td>1.0</td>\n",
       "      <td>1.0</td>\n",
       "      <td>0.0</td>\n",
       "      <td>inf</td>\n",
       "      <td>0.0</td>\n",
       "    </tr>\n",
       "    <tr>\n",
       "      <th>2</th>\n",
       "      <td>(milk)</td>\n",
       "      <td>(bread)</td>\n",
       "      <td>0.6</td>\n",
       "      <td>1.0</td>\n",
       "      <td>0.6</td>\n",
       "      <td>1.0</td>\n",
       "      <td>1.0</td>\n",
       "      <td>0.0</td>\n",
       "      <td>inf</td>\n",
       "      <td>0.0</td>\n",
       "    </tr>\n",
       "    <tr>\n",
       "      <th>3</th>\n",
       "      <td>(bread)</td>\n",
       "      <td>(milk)</td>\n",
       "      <td>1.0</td>\n",
       "      <td>0.6</td>\n",
       "      <td>0.6</td>\n",
       "      <td>0.6</td>\n",
       "      <td>1.0</td>\n",
       "      <td>0.0</td>\n",
       "      <td>1.0</td>\n",
       "      <td>0.0</td>\n",
       "    </tr>\n",
       "  </tbody>\n",
       "</table>\n",
       "</div>"
      ],
      "text/plain": [
       "  antecedents consequents  antecedent support  consequent support  support  \\\n",
       "0     (bread)    (apples)                 1.0                 0.8      0.8   \n",
       "1    (apples)     (bread)                 0.8                 1.0      0.8   \n",
       "2      (milk)     (bread)                 0.6                 1.0      0.6   \n",
       "3     (bread)      (milk)                 1.0                 0.6      0.6   \n",
       "\n",
       "   confidence  lift  leverage  conviction  zhangs_metric  \n",
       "0         0.8   1.0       0.0         1.0            0.0  \n",
       "1         1.0   1.0       0.0         inf            0.0  \n",
       "2         1.0   1.0       0.0         inf            0.0  \n",
       "3         0.6   1.0       0.0         1.0            0.0  "
      ]
     },
     "execution_count": 10,
     "metadata": {},
     "output_type": "execute_result"
    }
   ],
   "source": [
    "# Оцінка якості асоціативних правил алгоритму Fp growth\n",
    "print(\"Асоціативні правила (Fp growth):\")\n",
    "rules_fp_growth"
   ]
  },
  {
   "cell_type": "code",
   "execution_count": 14,
   "id": "10b158ff",
   "metadata": {},
   "outputs": [
    {
     "name": "stdout",
     "output_type": "stream",
     "text": [
      "Час виконання Apriori: 0.01795196533203125 секунд\n",
      "Час виконання Fp growth: 0.005981922149658203 секунд\n"
     ]
    },
    {
     "name": "stderr",
     "output_type": "stream",
     "text": [
      "D:\\Software\\Anaconda\\Lib\\site-packages\\mlxtend\\frequent_patterns\\fpcommon.py:110: DeprecationWarning: DataFrames with non-bool types result in worse computationalperformance and their support might be discontinued in the future.Please use a DataFrame with bool type\n",
      "  warnings.warn(\n",
      "D:\\Software\\Anaconda\\Lib\\site-packages\\mlxtend\\frequent_patterns\\fpcommon.py:110: DeprecationWarning: DataFrames with non-bool types result in worse computationalperformance and their support might be discontinued in the future.Please use a DataFrame with bool type\n",
      "  warnings.warn(\n"
     ]
    }
   ],
   "source": [
    "import time\n",
    "\n",
    "# Оцінка часу виконання алгоритму Apriori\n",
    "start_time_apriori = time.time()\n",
    "frequent_itemsets = apriori(oht, min_support=0.1, use_colnames=True)\n",
    "rules_apriori = association_rules(frequent_itemsets, metric=\"lift\", min_threshold=1.0)\n",
    "end_time_apriori = time.time()\n",
    "elapsed_time_apriori = end_time_apriori - start_time_apriori\n",
    "\n",
    "# Оцінка часу виконання алгоритму Apriori\n",
    "start_time_fp_growth = time.time()\n",
    "frequent_itemsets = fpgrowth(oht, min_support=0.1, use_colnames=True)\n",
    "rules_fp_growth = association_rules(frequent_itemsets, metric=\"lift\", min_threshold=1.0)\n",
    "end_time_fp_growth = time.time()\n",
    "elapsed_time_fp_growth = end_time_fp_growth - start_time_fp_growth\n",
    "\n",
    "# Порівняти часові ресурси\n",
    "print(\"Час виконання Apriori:\", elapsed_time_apriori, \"секунд\")\n",
    "print(\"Час виконання Fp growth:\", elapsed_time_fp_growth, \"секунд\")"
   ]
  },
  {
   "cell_type": "code",
   "execution_count": 20,
   "id": "64cba77e",
   "metadata": {},
   "outputs": [
    {
     "name": "stdout",
     "output_type": "stream",
     "text": [
      "Відфільтровані правила:\n"
     ]
    },
    {
     "data": {
      "text/html": [
       "<div>\n",
       "<style scoped>\n",
       "    .dataframe tbody tr th:only-of-type {\n",
       "        vertical-align: middle;\n",
       "    }\n",
       "\n",
       "    .dataframe tbody tr th {\n",
       "        vertical-align: top;\n",
       "    }\n",
       "\n",
       "    .dataframe thead th {\n",
       "        text-align: right;\n",
       "    }\n",
       "</style>\n",
       "<table border=\"1\" class=\"dataframe\">\n",
       "  <thead>\n",
       "    <tr style=\"text-align: right;\">\n",
       "      <th></th>\n",
       "      <th>antecedents</th>\n",
       "      <th>consequents</th>\n",
       "      <th>antecedent support</th>\n",
       "      <th>consequent support</th>\n",
       "      <th>support</th>\n",
       "      <th>confidence</th>\n",
       "      <th>lift</th>\n",
       "      <th>leverage</th>\n",
       "      <th>conviction</th>\n",
       "      <th>zhangs_metric</th>\n",
       "    </tr>\n",
       "  </thead>\n",
       "  <tbody>\n",
       "    <tr>\n",
       "      <th>1</th>\n",
       "      <td>(apples)</td>\n",
       "      <td>(bread)</td>\n",
       "      <td>0.8</td>\n",
       "      <td>1.0</td>\n",
       "      <td>0.8</td>\n",
       "      <td>1.0</td>\n",
       "      <td>1.0</td>\n",
       "      <td>0.0</td>\n",
       "      <td>inf</td>\n",
       "      <td>0.0</td>\n",
       "    </tr>\n",
       "    <tr>\n",
       "      <th>6</th>\n",
       "      <td>(milk)</td>\n",
       "      <td>(bread)</td>\n",
       "      <td>0.6</td>\n",
       "      <td>1.0</td>\n",
       "      <td>0.6</td>\n",
       "      <td>1.0</td>\n",
       "      <td>1.0</td>\n",
       "      <td>0.0</td>\n",
       "      <td>inf</td>\n",
       "      <td>0.0</td>\n",
       "    </tr>\n",
       "  </tbody>\n",
       "</table>\n",
       "</div>"
      ],
      "text/plain": [
       "  antecedents consequents  antecedent support  consequent support  support  \\\n",
       "1    (apples)     (bread)                 0.8                 1.0      0.8   \n",
       "6      (milk)     (bread)                 0.6                 1.0      0.6   \n",
       "\n",
       "   confidence  lift  leverage  conviction  zhangs_metric  \n",
       "1         1.0   1.0       0.0         inf            0.0  \n",
       "6         1.0   1.0       0.0         inf            0.0  "
      ]
     },
     "execution_count": 20,
     "metadata": {},
     "output_type": "execute_result"
    }
   ],
   "source": [
    "# Пошук та видалення надлишкових асоціативних правил для алгоритму Apriori\n",
    "\n",
    "# Визначення порогів для підтримки та впевненості\n",
    "min_support_threshold = 0.5\n",
    "min_confidence_threshold = 1.0\n",
    "\n",
    "# Видалення надлишкових правил на основі порогів\n",
    "filtered_rules_apriori = rules_apriori[(rules_apriori['support'] >= min_support_threshold) & (rules_apriori['confidence'] >= min_confidence_threshold)]\n",
    "\n",
    "print(\"Відфільтровані правила:\")\n",
    "filtered_rules_apriori"
   ]
  },
  {
   "cell_type": "code",
   "execution_count": 21,
   "id": "3285a694",
   "metadata": {},
   "outputs": [
    {
     "name": "stdout",
     "output_type": "stream",
     "text": [
      "Відфільтровані правила:\n"
     ]
    },
    {
     "data": {
      "text/html": [
       "<div>\n",
       "<style scoped>\n",
       "    .dataframe tbody tr th:only-of-type {\n",
       "        vertical-align: middle;\n",
       "    }\n",
       "\n",
       "    .dataframe tbody tr th {\n",
       "        vertical-align: top;\n",
       "    }\n",
       "\n",
       "    .dataframe thead th {\n",
       "        text-align: right;\n",
       "    }\n",
       "</style>\n",
       "<table border=\"1\" class=\"dataframe\">\n",
       "  <thead>\n",
       "    <tr style=\"text-align: right;\">\n",
       "      <th></th>\n",
       "      <th>antecedents</th>\n",
       "      <th>consequents</th>\n",
       "      <th>antecedent support</th>\n",
       "      <th>consequent support</th>\n",
       "      <th>support</th>\n",
       "      <th>confidence</th>\n",
       "      <th>lift</th>\n",
       "      <th>leverage</th>\n",
       "      <th>conviction</th>\n",
       "      <th>zhangs_metric</th>\n",
       "    </tr>\n",
       "  </thead>\n",
       "  <tbody>\n",
       "    <tr>\n",
       "      <th>1</th>\n",
       "      <td>(apples)</td>\n",
       "      <td>(bread)</td>\n",
       "      <td>0.8</td>\n",
       "      <td>1.0</td>\n",
       "      <td>0.8</td>\n",
       "      <td>1.0</td>\n",
       "      <td>1.00</td>\n",
       "      <td>0.00</td>\n",
       "      <td>inf</td>\n",
       "      <td>0.00</td>\n",
       "    </tr>\n",
       "    <tr>\n",
       "      <th>2</th>\n",
       "      <td>(eggs)</td>\n",
       "      <td>(apples)</td>\n",
       "      <td>0.2</td>\n",
       "      <td>0.8</td>\n",
       "      <td>0.2</td>\n",
       "      <td>1.0</td>\n",
       "      <td>1.25</td>\n",
       "      <td>0.04</td>\n",
       "      <td>inf</td>\n",
       "      <td>0.25</td>\n",
       "    </tr>\n",
       "  </tbody>\n",
       "</table>\n",
       "</div>"
      ],
      "text/plain": [
       "  antecedents consequents  antecedent support  consequent support  support  \\\n",
       "1    (apples)     (bread)                 0.8                 1.0      0.8   \n",
       "2      (eggs)    (apples)                 0.2                 0.8      0.2   \n",
       "\n",
       "   confidence  lift  leverage  conviction  zhangs_metric  \n",
       "1         1.0  1.00      0.00         inf           0.00  \n",
       "2         1.0  1.25      0.04         inf           0.25  "
      ]
     },
     "execution_count": 21,
     "metadata": {},
     "output_type": "execute_result"
    }
   ],
   "source": [
    "# Пошук та видалення надлишкових асоціативних правил для алгоритму Fp growth\n",
    "\n",
    "# Видалення надлишкових правил на основі порогів\n",
    "filtered_rules_fp_growth = rules_apriori[(rules_fp_growth['support'] >= min_support_threshold) & (rules_fp_growth['confidence'] >= min_confidence_threshold)]\n",
    "\n",
    "print(\"Відфільтровані правила:\")\n",
    "filtered_rules_fp_growth"
   ]
  },
  {
   "cell_type": "code",
   "execution_count": 27,
   "id": "d453873c",
   "metadata": {},
   "outputs": [
    {
     "data": {
      "image/png": "[encoded data removed]",
      "text/plain": [
       "<Figure size 800x600 with 1 Axes>"
      ]
     },
     "metadata": {},
     "output_type": "display_data"
    },
    {
     "name": "stdout",
     "output_type": "stream",
     "text": [
      "\n",
      "Чим ближче точки(асоціативні правила) до правого верхнього кута тим кращий взаємозвязок між Confidence та Support\n",
      "і тим частіше ці асоціативні правила застосовуються\n"
     ]
    }
   ],
   "source": [
    "import matplotlib.pyplot as plt\n",
    "\n",
    "# Візуалізація асоціативних правил на основі алгоритму Apriori\n",
    "\n",
    "plt.figure(figsize=(8, 6))\n",
    "plt.scatter(rules_apriori['support'], rules_apriori['confidence'], alpha=0.5)\n",
    "plt.xlabel('Support')\n",
    "plt.ylabel('Confidence')\n",
    "for i, txt in enumerate(rules_apriori.index):\n",
    "    plt.annotate(txt, (rules_apriori['support'][i], rules_apriori['confidence'][i]))\n",
    "plt.show()\n",
    "\n",
    "print('')\n",
    "print('Чим ближче точки(асоціативні правила) до правого верхнього кута тим кращий взаємозвязок між Confidence та Support')\n",
    "print('і тим частіше ці асоціативні правила застосовуються')"
   ]
  },
  {
   "cell_type": "code",
   "execution_count": 28,
   "id": "48054605",
   "metadata": {},
   "outputs": [
    {
     "data": {
      "image/png": "[encoded data removed]",
      "text/plain": [
       "<Figure size 800x600 with 1 Axes>"
      ]
     },
     "metadata": {},
     "output_type": "display_data"
    },
    {
     "name": "stdout",
     "output_type": "stream",
     "text": [
      "\n",
      "Чим ближче точки(асоціативні правила) до правого верхнього кута тим кращий взаємозвязок між Confidence та Support\n",
      "і тим частіше ці асоціативні правила застосовуються\n"
     ]
    }
   ],
   "source": [
    "# Візуалізація асоціативних правил на основі алгоритму Fp growth\n",
    "\n",
    "plt.figure(figsize=(8, 6))\n",
    "plt.scatter(rules_fp_growth['support'], rules_fp_growth['confidence'], alpha=0.5)\n",
    "plt.xlabel('Support')\n",
    "plt.ylabel('Confidence')\n",
    "for i, txt in enumerate(rules_fp_growth.index):\n",
    "    plt.annotate(txt, (rules_fp_growth['support'][i], rules_fp_growth['confidence'][i]))\n",
    "plt.show()\n",
    "\n",
    "print('')\n",
    "print('Чим ближче точки(асоціативні правила) до правого верхнього кута тим кращий взаємозвязок між Confidence та Support')\n",
    "print('і тим частіше ці асоціативні правила застосовуються')"
   ]
  },
  {
   "cell_type": "code",
   "execution_count": null,
   "id": "b675975b",
   "metadata": {},
   "outputs": [],
   "source": []
  }
 ],
 "metadata": {
  "kernelspec": {
   "display_name": "Python 3 (ipykernel)",
   "language": "python",
   "name": "python3"
  },
  "language_info": {
   "codemirror_mode": {
    "name": "ipython",
    "version": 3
   },
   "file_extension": ".py",
   "mimetype": "text/x-python",
   "name": "python",
   "nbconvert_exporter": "python",
   "pygments_lexer": "ipython3",
   "version": "3.11.4"
  }
 },
 "nbformat": 4,
 "nbformat_minor": 5
}
